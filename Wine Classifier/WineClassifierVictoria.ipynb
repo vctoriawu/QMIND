{
 "cells": [
  {
   "cell_type": "code",
   "execution_count": 69,
   "metadata": {},
   "outputs": [],
   "source": [
    "import pandas as pd\n",
    "from sklearn.tree import DecisionTreeClassifier # Import Decision Tree Classifier\n",
    "from sklearn.model_selection import train_test_split # Import train_test_split function\n",
    "from sklearn import metrics #Import scikit-learn metrics module for accuracy calculation\n",
    "\n",
    "#used matplotlib for all of the plotting\n",
    "import matplotlib.pyplot as plt\n",
    "import numpy as np\n",
    "\n",
    "#used to create the confusion matrix\n",
    "from sklearn.metrics import confusion_matrix\n",
    "import itertools\n",
    "\n",
    "#Used to save figures\n",
    "from matplotlib.backends.backend_pdf import PdfPages"
   ]
  },
  {
   "cell_type": "code",
   "execution_count": 66,
   "metadata": {},
   "outputs": [],
   "source": [
    "col_names = ['fixed acidity', 'volatile acidity', 'citric acid', 'residual sugar', 'chlorides', 'free sulfur dioxide', 'total sulfur dioxide', 'density', 'pH', 'sulfates', 'alcohol', 'quality']\n",
    "# load dataset\n",
    "red = pd.read_csv('winequality-red.csv', delimiter = ',', header=None, names=col_names)"
   ]
  },
  {
   "cell_type": "code",
   "execution_count": 67,
   "metadata": {},
   "outputs": [
    {
     "data": {
      "text/html": [
       "<div>\n",
       "<style scoped>\n",
       "    .dataframe tbody tr th:only-of-type {\n",
       "        vertical-align: middle;\n",
       "    }\n",
       "\n",
       "    .dataframe tbody tr th {\n",
       "        vertical-align: top;\n",
       "    }\n",
       "\n",
       "    .dataframe thead th {\n",
       "        text-align: right;\n",
       "    }\n",
       "</style>\n",
       "<table border=\"1\" class=\"dataframe\">\n",
       "  <thead>\n",
       "    <tr style=\"text-align: right;\">\n",
       "      <th></th>\n",
       "      <th>fixed acidity</th>\n",
       "      <th>volatile acidity</th>\n",
       "      <th>citric acid</th>\n",
       "      <th>residual sugar</th>\n",
       "      <th>chlorides</th>\n",
       "      <th>free sulfur dioxide</th>\n",
       "      <th>total sulfur dioxide</th>\n",
       "      <th>density</th>\n",
       "      <th>pH</th>\n",
       "      <th>sulfates</th>\n",
       "      <th>alcohol</th>\n",
       "      <th>quality</th>\n",
       "    </tr>\n",
       "  </thead>\n",
       "  <tbody>\n",
       "    <tr>\n",
       "      <th>0</th>\n",
       "      <td>7.4</td>\n",
       "      <td>0.70</td>\n",
       "      <td>0.00</td>\n",
       "      <td>1.9</td>\n",
       "      <td>0.076</td>\n",
       "      <td>11.0</td>\n",
       "      <td>34.0</td>\n",
       "      <td>0.9978</td>\n",
       "      <td>3.51</td>\n",
       "      <td>0.56</td>\n",
       "      <td>9.4</td>\n",
       "      <td>5</td>\n",
       "    </tr>\n",
       "    <tr>\n",
       "      <th>1</th>\n",
       "      <td>7.8</td>\n",
       "      <td>0.88</td>\n",
       "      <td>0.00</td>\n",
       "      <td>2.6</td>\n",
       "      <td>0.098</td>\n",
       "      <td>25.0</td>\n",
       "      <td>67.0</td>\n",
       "      <td>0.9968</td>\n",
       "      <td>3.20</td>\n",
       "      <td>0.68</td>\n",
       "      <td>9.8</td>\n",
       "      <td>5</td>\n",
       "    </tr>\n",
       "    <tr>\n",
       "      <th>2</th>\n",
       "      <td>7.8</td>\n",
       "      <td>0.76</td>\n",
       "      <td>0.04</td>\n",
       "      <td>2.3</td>\n",
       "      <td>0.092</td>\n",
       "      <td>15.0</td>\n",
       "      <td>54.0</td>\n",
       "      <td>0.9970</td>\n",
       "      <td>3.26</td>\n",
       "      <td>0.65</td>\n",
       "      <td>9.8</td>\n",
       "      <td>5</td>\n",
       "    </tr>\n",
       "    <tr>\n",
       "      <th>3</th>\n",
       "      <td>11.2</td>\n",
       "      <td>0.28</td>\n",
       "      <td>0.56</td>\n",
       "      <td>1.9</td>\n",
       "      <td>0.075</td>\n",
       "      <td>17.0</td>\n",
       "      <td>60.0</td>\n",
       "      <td>0.9980</td>\n",
       "      <td>3.16</td>\n",
       "      <td>0.58</td>\n",
       "      <td>9.8</td>\n",
       "      <td>6</td>\n",
       "    </tr>\n",
       "    <tr>\n",
       "      <th>4</th>\n",
       "      <td>7.4</td>\n",
       "      <td>0.70</td>\n",
       "      <td>0.00</td>\n",
       "      <td>1.9</td>\n",
       "      <td>0.076</td>\n",
       "      <td>11.0</td>\n",
       "      <td>34.0</td>\n",
       "      <td>0.9978</td>\n",
       "      <td>3.51</td>\n",
       "      <td>0.56</td>\n",
       "      <td>9.4</td>\n",
       "      <td>5</td>\n",
       "    </tr>\n",
       "  </tbody>\n",
       "</table>\n",
       "</div>"
      ],
      "text/plain": [
       "   fixed acidity  volatile acidity  citric acid  residual sugar  chlorides  \\\n",
       "0            7.4              0.70         0.00             1.9      0.076   \n",
       "1            7.8              0.88         0.00             2.6      0.098   \n",
       "2            7.8              0.76         0.04             2.3      0.092   \n",
       "3           11.2              0.28         0.56             1.9      0.075   \n",
       "4            7.4              0.70         0.00             1.9      0.076   \n",
       "\n",
       "   free sulfur dioxide  total sulfur dioxide  density    pH  sulfates  \\\n",
       "0                 11.0                  34.0   0.9978  3.51      0.56   \n",
       "1                 25.0                  67.0   0.9968  3.20      0.68   \n",
       "2                 15.0                  54.0   0.9970  3.26      0.65   \n",
       "3                 17.0                  60.0   0.9980  3.16      0.58   \n",
       "4                 11.0                  34.0   0.9978  3.51      0.56   \n",
       "\n",
       "   alcohol  quality  \n",
       "0      9.4        5  \n",
       "1      9.8        5  \n",
       "2      9.8        5  \n",
       "3      9.8        6  \n",
       "4      9.4        5  "
      ]
     },
     "execution_count": 67,
     "metadata": {},
     "output_type": "execute_result"
    }
   ],
   "source": [
    "red.head()"
   ]
  },
  {
   "cell_type": "code",
   "execution_count": 47,
   "metadata": {},
   "outputs": [],
   "source": [
    "#split dataset in features and target variable\n",
    "feature_cols = ['fixed acidity', 'volatile acidity', 'citric acid', 'chlorides','total sulfur dioxide','density','sulfates', 'alcohol']\n",
    "X = red[feature_cols] # Features\n",
    "y = red.quality # Target variable"
   ]
  },
  {
   "cell_type": "code",
   "execution_count": 48,
   "metadata": {},
   "outputs": [],
   "source": [
    "# Split dataset into training set and test set\n",
    "X_train, X_test, y_train, y_test = train_test_split(X, y, test_size=0.3, random_state=1) # 70% training and 30% test"
   ]
  },
  {
   "cell_type": "code",
   "execution_count": 49,
   "metadata": {},
   "outputs": [],
   "source": [
    "def gini(X_train, y_train): \n",
    "    # Creating the classifier object \n",
    "    clf_gini = DecisionTreeClassifier(criterion = \"gini\", \n",
    "    random_state = 100,max_depth=10, min_samples_leaf=10) \n",
    "  \n",
    "    # Performing training \n",
    "    clf_gini.fit(X_train, y_train) \n",
    "    return clf_gini"
   ]
  },
  {
   "cell_type": "code",
   "execution_count": 50,
   "metadata": {},
   "outputs": [],
   "source": [
    "def entropy(X_train, y_train):\n",
    "    \n",
    "    # Decision tree with entropy \n",
    "    clf_entropy = DecisionTreeClassifier( \n",
    "            criterion = \"entropy\", random_state = 100, \n",
    "            max_depth = 10, min_samples_leaf = 10) \n",
    "  \n",
    "    #Performing training \n",
    "    clf_entropy.fit(X_train, y_train) \n",
    "    return clf_entropy"
   ]
  },
  {
   "cell_type": "code",
   "execution_count": 51,
   "metadata": {},
   "outputs": [],
   "source": [
    "def prediction(clf_model, X_test):\n",
    "    # Predicton on test with giniIndex \n",
    "    y_pred = clf_model.predict(X_test) \n",
    "    print(\"Predicted values:\") \n",
    "    print(y_pred)\n",
    "    return y_pred"
   ]
  },
  {
   "cell_type": "code",
   "execution_count": 52,
   "metadata": {},
   "outputs": [],
   "source": [
    "clf_gini = gini(X_train, y_train) \n",
    "clf_entropy = entropy(X_train, y_train) "
   ]
  },
  {
   "cell_type": "code",
   "execution_count": 53,
   "metadata": {},
   "outputs": [
    {
     "name": "stdout",
     "output_type": "stream",
     "text": [
      "Predicted values:\n",
      "[5 6 7 6 6 7 6 5 6 5 6 5 6 7 6 5 6 6 5 5 5 6 5 6 5 6 7 6 5 6 5 7 5 6 5 6 5\n",
      " 6 6 5 6 5 5 5 5 6 5 6 6 6 5 5 7 5 5 6 5 6 6 5 6 5 6 5 5 6 6 5 6 7 5 6 5 6\n",
      " 5 5 6 5 5 6 7 5 5 6 6 5 5 7 5 6 5 6 5 7 6 6 7 5 5 5 5 6 6 5 5 6 5 6 5 5 7\n",
      " 5 6 6 5 7 5 5 5 6 5 6 5 6 5 6 6 6 6 6 5 6 7 5 5 6 6 7 5 6 5 5 6 6 5 5 6 5\n",
      " 6 6 5 7 5 6 6 6 6 6 5 5 7 6 5 5 6 6 6 5 5 5 5 5 5 5 6 5 6 5 5 6 6 6 7 5 6\n",
      " 6 7 5 6 5 5 7 6 5 5 5 6 5 6 5 6 5 6 5 7 6 5 5 6 6 5 7 6 6 5 5 5 5 5 6 5 5\n",
      " 6 5 6 5 5 6 7 5 6 6 6 6 5 5 7 5 5 5 6 5 6 6 5 6 6 5 5 6 5 5 6 6 6 5 5 5 6\n",
      " 6 6 5 6 5 5 6 6 5 6 6 5 6 5 7 5 5 5 5 5 6 6 7 5 5 6 5 6 5 5 5 6 6 6 5 7 6\n",
      " 5 7 5 5 5 6 5 6 5 6 5 6 6 5 5 6 6 5 6 6 5 5 6 7 6 6 7 5 5 5 5 7 6 6 7 5 5\n",
      " 6 6 5 6 6 5 5 5 5 5 5 6 7 6 5 5 5 7 7 6 7 5 5 6 7 6 5 5 6 5 6 5 5 5 5 6 5\n",
      " 5 6 5 5 5 6 6 7 5 7 6 5 6 5 6 6 5 6 6 5 5 5 6 6 5 6 5 6 5 5 6 5 6 6 5 6 5\n",
      " 5 5 6 5 5 6 5 6 6 6 7 6 6 6 6 6 6 5 5 7 6 5 7 5 5 5 5 5 5 6 6 5 6 7 5 6 7\n",
      " 6 5 5 5 5 5 5 5 5 5 6 5 6 5 7 5 5 5 5 7 6 6 5 5 6 7 6 5 5 7 5 6 6 6 6 7]\n",
      "Accuracy: 0.5604166666666667\n"
     ]
    }
   ],
   "source": [
    "# Prediction using gini \n",
    "y_pred_gini = prediction(clf_gini, X_test) \n",
    "print(\"Accuracy:\",metrics.accuracy_score(y_test, y_pred_gini))"
   ]
  },
  {
   "cell_type": "code",
   "execution_count": null,
   "metadata": {},
   "outputs": [],
   "source": [
    "# Prediction using entropy\n",
    "y_pred_entropy = prediction(clf_entropy, X_test) \n",
    "print(\"Accuracy:\",metrics.accuracy_score(y_test, y_pred_entropy))"
   ]
  },
  {
   "cell_type": "code",
   "execution_count": null,
   "metadata": {},
   "outputs": [],
   "source": [
    "#Plots the loss of the agent for the training and testing data for each epoch\n",
    "plt.figure()\n",
    "plt.plot(history.history['loss'])\n",
    "plt.plot(history.history['val_loss'])\n",
    "plt.title(\"Loss\")\n",
    "plt.ylabel(\"Loss\")\n",
    "plt.xlabel(\"Epoch\")\n",
    "plt.legend(['train', 'test'], loc='upper right')\n",
    "plt.savefig(pp, format='pdf')#appends the figure to the pdf\n",
    "\n",
    "#Plots the accuracy of the agent for the training and testing data for each epoch\n",
    "plt.figure()\n",
    "plt.plot(history.history['categorical_accuracy'])\n",
    "plt.plot(history.history['val_categorical_accuracy'])\n",
    "plt.title(\"Model Accuracy\")\n",
    "plt.ylabel(\"Accuracy\")\n",
    "plt.xlabel(\"Epoch\")\n",
    "plt.legend(['train', 'test'], loc='upper left')\n",
    "plt.savefig(pp, format='pdf')#appends the figure to the pdf\n",
    "\n",
    "pp.close()#closes the pdf and saves it"
   ]
  },
  {
   "cell_type": "markdown",
   "metadata": {},
   "source": [
    "## Confusion Matrix for Entropy Decision Tree"
   ]
  },
  {
   "cell_type": "code",
   "execution_count": 72,
   "metadata": {},
   "outputs": [
    {
     "data": {
      "image/png": "[encoded data removed]",
      "text/plain": [
       "<Figure size 432x288 with 2 Axes>"
      ]
     },
     "metadata": {
      "needs_background": "light"
     },
     "output_type": "display_data"
    },
    {
     "data": {
      "image/png": "[encoded data removed]",
      "text/plain": [
       "<Figure size 432x288 with 2 Axes>"
      ]
     },
     "metadata": {
      "needs_background": "light"
     },
     "output_type": "display_data"
    }
   ],
   "source": [
    "#The Decision Tree only outputs quality ratings 4-8 \n",
    "#This adds the extra rows and columns to the confusion matrix so it contains everything from 1-10\n",
    "def add_dims(matrix, num_at_beginning, num_at_end):\n",
    "    #takes in the matrix, the number of low ratings not included, and the number of high ratings not included\n",
    "    \n",
    "    #creates a np array of zeros with the correct length\n",
    "    temp = list(np.zeros(len(matrix[0])+num_at_beginning+num_at_end))\n",
    "    return_matrix = []#sets up matrix which is getting returned\n",
    "    for i in range(num_at_beginning):#sets up the low rows of the matrix with no values as 0s\n",
    "        return_matrix.append(temp)\n",
    "        \n",
    "    #sets up an array of 0s to add to the current data\n",
    "    beginning_zeros = list(np.zeros(num_at_beginning))\n",
    "    ending_zeros = list(np.zeros(num_at_end))\n",
    "    for i in range(len(matrix)):\n",
    "        return_matrix.append(beginning_zeros + list(matrix[i]) + ending_zeros)#makes a full row with the smaller matrix & 0s\n",
    "    \n",
    "    #Adds a set of zero arrays at the end of the matrix\n",
    "    for i in range(num_at_end):\n",
    "        return_matrix.append(temp)\n",
    "        \n",
    "    return np.array(return_matrix).astype(int)\n",
    "\n",
    "#Takes in the confusion matrix and plots it\n",
    "def plot_conf_matrix(cm, classes, in_percent=True, title='Confusion Matrix', cmap=plt.cm.Blues):\n",
    "    #takes in the confusion matrix (cm), the class names, if the values should be reported in %, the title, and the color\n",
    "    \n",
    "    #gets the data in percent if specified by the user\n",
    "    if in_percent:\n",
    "        num_trials = sum(sum(cm))#gets the total number of values\n",
    "        cm = 100*((cm+0.0)/num_trials)#gets the values in %\n",
    "        cm = np.array(cm).astype(int)#makes each value an integer\n",
    "    \n",
    "    #Sets up the figure with title, tickmarks, axis labels,and a colorbar legend\n",
    "    plt.figure()\n",
    "    plt.imshow(cm,interpolation='nearest', cmap=cmap)\n",
    "    plt.title(title)\n",
    "    plt.colorbar()\n",
    "    tick_marks = np.arange(len(classes))#sets up tick marks with labels\n",
    "    plt.xticks(tick_marks, classes, rotation=45)\n",
    "    plt.yticks(tick_marks, classes)\n",
    "    plt.ylabel(\"True Label\")\n",
    "    plt.xlabel(\"Predicted Label\")\n",
    "    \n",
    "    #uses threshold for determining text color\n",
    "    thresh = cm.max() / 2.\n",
    "    for i,j in itertools.product(range(cm.shape[0]), range(cm.shape[1])):#creates plot with text in it\n",
    "        plt.text(j, i, cm[i,j], horizontalalignment = \"center\", color=\"white\" if cm[i,j] > thresh else \"black\")\n",
    "\n",
    "predictions = y_pred_entropy#Gets the predictions for the confusion matrix\n",
    "\n",
    "#takes each output of the Decision Tree and uses the max value as the decision\n",
    "predict = []\n",
    "for i in range (len(predictions)):\n",
    "    predict.append(predictions[i])\n",
    "\n",
    "#takes the given solution from the csv and subtracts 3 because there were no output neurons for the first ratings 1 and 2\n",
    "expected_nn_output = y_test\n",
    "\n",
    "cm = confusion_matrix(expected_nn_output, predict)\n",
    "full_cm = add_dims(cm,2,2)\n",
    "\n",
    "pp = PdfPages('Wine_Confusion_Matricies.pdf')#creates pdf to save figures\n",
    "plot_conf_matrix(cm, np.array([3,4,5,6,7,8]), False, \"Truncated Input Confusion Matrix\")\n",
    "plt.savefig(pp, format='pdf')#appends the figure to the pdf\n",
    "plot_conf_matrix(full_cm, np.array([1,2,3,4,5,6,7,8,9,10]), False, \"Full Confusion Matrix\")\n",
    "plt.savefig(pp, format='pdf')#appends the figure to the pdf\n",
    "pp.close()#closes the pdf and saves it"
   ]
  },
  {
   "cell_type": "markdown",
   "metadata": {},
   "source": [
    "## Confusion Matrix for Gini Decision Tree"
   ]
  },
  {
   "cell_type": "code",
   "execution_count": 74,
   "metadata": {},
   "outputs": [
    {
     "data": {
      "image/png": "[encoded data removed]",
      "text/plain": [
       "<Figure size 432x288 with 2 Axes>"
      ]
     },
     "metadata": {
      "needs_background": "light"
     },
     "output_type": "display_data"
    },
    {
     "data": {
      "image/png": "[encoded data removed]",
      "text/plain": [
       "<Figure size 432x288 with 2 Axes>"
      ]
     },
     "metadata": {
      "needs_background": "light"
     },
     "output_type": "display_data"
    }
   ],
   "source": [
    "#The Decision Tree only outputs quality ratings 4-8 \n",
    "#This adds the extra rows and columns to the confusion matrix so it contains everything from 1-10\n",
    "def add_dims(matrix, num_at_beginning, num_at_end):\n",
    "    #takes in the matrix, the number of low ratings not included, and the number of high ratings not included\n",
    "    \n",
    "    #creates a np array of zeros with the correct length\n",
    "    temp = list(np.zeros(len(matrix[0])+num_at_beginning+num_at_end))\n",
    "    return_matrix = []#sets up matrix which is getting returned\n",
    "    for i in range(num_at_beginning):#sets up the low rows of the matrix with no values as 0s\n",
    "        return_matrix.append(temp)\n",
    "        \n",
    "    #sets up an array of 0s to add to the current data\n",
    "    beginning_zeros = list(np.zeros(num_at_beginning))\n",
    "    ending_zeros = list(np.zeros(num_at_end))\n",
    "    for i in range(len(matrix)):\n",
    "        return_matrix.append(beginning_zeros + list(matrix[i]) + ending_zeros)#makes a full row with the smaller matrix & 0s\n",
    "    \n",
    "    #Adds a set of zero arrays at the end of the matrix\n",
    "    for i in range(num_at_end):\n",
    "        return_matrix.append(temp)\n",
    "        \n",
    "    return np.array(return_matrix).astype(int)\n",
    "\n",
    "#Takes in the confusion matrix and plots it\n",
    "def plot_conf_matrix(cm, classes, in_percent=True, title='Confusion Matrix', cmap=plt.cm.Blues):\n",
    "    #takes in the confusion matrix (cm), the class names, if the values should be reported in %, the title, and the color\n",
    "    \n",
    "    #gets the data in percent if specified by the user\n",
    "    if in_percent:\n",
    "        num_trials = sum(sum(cm))#gets the total number of values\n",
    "        cm = 100*((cm+0.0)/num_trials)#gets the values in %\n",
    "        cm = np.array(cm).astype(int)#makes each value an integer\n",
    "    \n",
    "    #Sets up the figure with title, tickmarks, axis labels,and a colorbar legend\n",
    "    plt.figure()\n",
    "    plt.imshow(cm,interpolation='nearest', cmap=cmap)\n",
    "    plt.title(title)\n",
    "    plt.colorbar()\n",
    "    tick_marks = np.arange(len(classes))#sets up tick marks with labels\n",
    "    plt.xticks(tick_marks, classes, rotation=45)\n",
    "    plt.yticks(tick_marks, classes)\n",
    "    plt.ylabel(\"True Label\")\n",
    "    plt.xlabel(\"Predicted Label\")\n",
    "    \n",
    "    #uses threshold for determining text color\n",
    "    thresh = cm.max() / 2.\n",
    "    for i,j in itertools.product(range(cm.shape[0]), range(cm.shape[1])):#creates plot with text in it\n",
    "        plt.text(j, i, cm[i,j], horizontalalignment = \"center\", color=\"white\" if cm[i,j] > thresh else \"black\")\n",
    "\n",
    "predictions = y_pred_gini#Gets the predictions for the confusion matrix\n",
    "\n",
    "#takes each output of the Decision Tree and uses the max value as the decision\n",
    "predict = []\n",
    "for i in range (len(predictions)):\n",
    "    predict.append(predictions[i])\n",
    "\n",
    "#takes the given solution from the csv and subtracts 3 because there were no output neurons for the first ratings 1 and 2\n",
    "expected_nn_output = y_test\n",
    "\n",
    "cm = confusion_matrix(expected_nn_output, predict)\n",
    "full_cm = add_dims(cm,2,2)\n",
    "\n",
    "pp = PdfPages('Wine_Confusion_Matricies.pdf')#creates pdf to save figures\n",
    "plot_conf_matrix(cm, np.array([3,4,5,6,7,8]), False, \"Truncated Input Confusion Matrix\")\n",
    "plt.savefig(pp, format='pdf')#appends the figure to the pdf\n",
    "plot_conf_matrix(full_cm, np.array([1,2,3,4,5,6,7,8,9,10]), False, \"Full Confusion Matrix\")\n",
    "plt.savefig(pp, format='pdf')#appends the figure to the pdf\n",
    "pp.close()#closes the pdf and saves it"
   ]
  },
  {
   "cell_type": "code",
   "execution_count": null,
   "metadata": {},
   "outputs": [],
   "source": []
  }
 ],
 "metadata": {
  "kernelspec": {
   "display_name": "Python 3",
   "language": "python",
   "name": "python3"
  },
  "language_info": {
   "codemirror_mode": {
    "name": "ipython",
    "version": 3
   },
   "file_extension": ".py",
   "mimetype": "text/x-python",
   "name": "python",
   "nbconvert_exporter": "python",
   "pygments_lexer": "ipython3",
   "version": "3.6.6"
  }
 },
 "nbformat": 4,
 "nbformat_minor": 2
}
